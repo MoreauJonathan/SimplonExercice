{
 "cells": [
  {
   "cell_type": "code",
   "execution_count": 1,
   "metadata": {
    "scrolled": false
   },
   "outputs": [
    {
     "name": "stdout",
     "output_type": "stream",
     "text": [
      "Pawtowski Wilfried 1\n",
      "Cancian Hadrien 2\n",
      "Clace Lukas 3\n",
      "Bouharaoui Tarek 4\n"
     ]
    }
   ],
   "source": [
    "from random import*\n",
    "Nom = [\"Bayet Davy\",\"Beuil Alexandre\",\"Bouazza Nedra\",\"Boubaker Samy\",\"Bouharaoui Tarek\",\"Cancian Hadrien\",\n",
    "       \"Clace Lukas\",\"Deleage Lucas\",\"Djerfi Souad\",\"El Majdoub Chourouk\",\"Fernandes Stephane\",\"Fratani Karen\"\n",
    "       ,\"Jacquemin Anthony\",\"Lesoeur Raphael\",\"Marais Anthony\",\"Moreau Jonathan\",\"Paul Debolina\",\n",
    "       \"Pawtowski Wilfried\",\"Pelliccioli Luca\",\"Ramanitrarivo Niry\",\"Vidon Elodie\",\"Wathelet Florent\"]\n",
    "shuffle(Nom);\n",
    "\n",
    "for i in range(4):\n",
    "    print(Nom[i],i+1)"
   ]
  },
  {
   "cell_type": "code",
   "execution_count": null,
   "metadata": {},
   "outputs": [],
   "source": []
  }
 ],
 "metadata": {
  "kernelspec": {
   "display_name": "Python 3",
   "language": "python",
   "name": "python3"
  },
  "language_info": {
   "codemirror_mode": {
    "name": "ipython",
    "version": 3
   },
   "file_extension": ".py",
   "mimetype": "text/x-python",
   "name": "python",
   "nbconvert_exporter": "python",
   "pygments_lexer": "ipython3",
   "version": "3.7.6"
  }
 },
 "nbformat": 4,
 "nbformat_minor": 4
}
