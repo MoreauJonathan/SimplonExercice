{
 "cells": [
  {
   "cell_type": "code",
   "execution_count": 2,
   "metadata": {
    "scrolled": false
   },
   "outputs": [
    {
     "name": "stdout",
     "output_type": "stream",
     "text": [
      "Deleage Lucas 1\n",
      "Wathelet Florent 2\n",
      "Boubaker Samy 3\n",
      "Bayet Davy 4\n",
      "Jacquemin Anthony 5\n",
      "Bouazza Nedra 6\n",
      "Fernandes Stephane 7\n",
      "Cancian Hadrien 8\n",
      "Bouharaoui Tarek 9\n",
      "Paul Debolina 10\n",
      "Clace Lukas 11\n",
      "El Majdoub Chourouk 12\n",
      "Vidon Elodie 13\n",
      "Lesoeur Raphael 14\n",
      "Ramanitrarivo Niry 15\n",
      "Djerfi Souad 16\n",
      "Moreau Jonathan 17\n",
      "Beuil Alexandre 18\n",
      "Marais Anthony 19\n",
      "Pawtowski Wilfried 20\n",
      "Fratani Karen 21\n",
      "Pelliccioli Luca 22\n"
     ]
    }
   ],
   "source": [
    "from random import*\n",
    "Nom = [\"Bayet Davy\",\"Beuil Alexandre\",\"Bouazza Nedra\",\"Boubaker Samy\",\"Bouharaoui Tarek\",\"Cancian Hadrien\",\n",
    "       \"Clace Lukas\",\"Deleage Lucas\",\"Djerfi Souad\",\"El Majdoub Chourouk\",\"Fernandes Stephane\",\"Fratani Karen\"\n",
    "       ,\"Jacquemin Anthony\",\"Lesoeur Raphael\",\"Marais Anthony\",\"Moreau Jonathan\",\"Paul Debolina\",\n",
    "       \"Pawtowski Wilfried\",\"Pelliccioli Luca\",\"Ramanitrarivo Niry\",\"Vidon Elodie\",\"Wathelet Florent\"]\n",
    "shuffle(Nom);\n",
    "\n",
    "for i in range(len(Nom)):\n",
    "    print(Nom[i],i+1)"
   ]
  },
  {
   "cell_type": "code",
   "execution_count": null,
   "metadata": {},
   "outputs": [],
   "source": []
  }
 ],
 "metadata": {
  "kernelspec": {
   "display_name": "Python 3",
   "language": "python",
   "name": "python3"
  },
  "language_info": {
   "codemirror_mode": {
    "name": "ipython",
    "version": 3
   },
   "file_extension": ".py",
   "mimetype": "text/x-python",
   "name": "python",
   "nbconvert_exporter": "python",
   "pygments_lexer": "ipython3",
   "version": "3.7.6"
  }
 },
 "nbformat": 4,
 "nbformat_minor": 4
}
