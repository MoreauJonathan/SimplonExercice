{
 "cells": [
  {
   "cell_type": "code",
   "execution_count": 28,
   "metadata": {
    "scrolled": true
   },
   "outputs": [
    {
     "name": "stdout",
     "output_type": "stream",
     "text": [
      "Veuillez entrer le rayon du cone : 0\n",
      "Veuillez entrer la hauteur du cone : 1\n",
      "Le volume du cone est de :  0.0\n"
     ]
    }
   ],
   "source": [
    "from math import*\n",
    "r = float(input('Veuillez entrer le rayon du cone : '))\n",
    "h = float(input('Veuillez entrer la hauteur du cone : '))\n",
    "V = ((pi*(r*r)*h)/3)\n",
    "print(\"Le volume du cone est de : \",V)"
   ]
  },
  {
   "cell_type": "code",
   "execution_count": null,
   "metadata": {},
   "outputs": [],
   "source": []
  }
 ],
 "metadata": {
  "kernelspec": {
   "display_name": "Python 3",
   "language": "python",
   "name": "python3"
  },
  "language_info": {
   "codemirror_mode": {
    "name": "ipython",
    "version": 3
   },
   "file_extension": ".py",
   "mimetype": "text/x-python",
   "name": "python",
   "nbconvert_exporter": "python",
   "pygments_lexer": "ipython3",
   "version": "3.7.6"
  }
 },
 "nbformat": 4,
 "nbformat_minor": 4
}
