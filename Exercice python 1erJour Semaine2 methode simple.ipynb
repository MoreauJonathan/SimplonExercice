{
 "cells": [
  {
   "cell_type": "code",
   "execution_count": 74,
   "metadata": {
    "scrolled": true
   },
   "outputs": [
    {
     "name": "stdout",
     "output_type": "stream",
     "text": [
      "Entrer un nombre 10\n",
      "le nombre est pair \n"
     ]
    }
   ],
   "source": [
    "a = float(input(\"Entrer un nombre \"))\n",
    "reste = a % 2;\n",
    "if reste == 0:\n",
    "    print(\"le nombre est pair \")\n",
    "else :\n",
    "    print (\"le nombre est impair \")"
   ]
  },
  {
   "cell_type": "code",
   "execution_count": 75,
   "metadata": {
    "scrolled": false
   },
   "outputs": [
    {
     "name": "stdout",
     "output_type": "stream",
     "text": [
      "veuillez entrez le cote AB du triangle 12.3\n",
      "veuillez entrez  BC du triangle  15.5\n",
      "veuillez entrez le cote AC du triangle 18.7\n",
      "le triangle n'est pas rectangle\n"
     ]
    }
   ],
   "source": [
    "ab = float(input(\"veuillez entrez le cote AB du triangle \"))\n",
    "bc = float(input(\"veuillez entrez  BC du triangle  \"))\n",
    "ac = float(input(\"veuillez entrez le cote AC du triangle \"))\n",
    "if (bc*bc) == (ab*ab)+(ac*ac):\n",
    "    print(\"le triangle est rectangle en A\")\n",
    "elif (ac*ac) == (ab*ab)+(bc*bc):\n",
    "    print(\"le triangle est rectangle en B\")\n",
    "elif (ab*ab) == (bc*bc)+(ac*ac):\n",
    "    print(\"le triangle est rectangle en C\")\n",
    "else:\n",
    "    print(\"le triangle n'est pas rectangle\")\n"
   ]
  },
  {
   "cell_type": "code",
   "execution_count": 78,
   "metadata": {
    "scrolled": true
   },
   "outputs": [
    {
     "name": "stdout",
     "output_type": "stream",
     "text": [
      "Entrez la prix ht 0\n",
      "le prix TTC est de  0.0\n",
      "Merci d'avoir utilisé le programme\n"
     ]
    }
   ],
   "source": [
    "prixHt = None\n",
    "while prixHt !=0:\n",
    "    prixHt = float(input(\"Entrez la prix ht \"))\n",
    "    prixTtc = prixHt * 1.2\n",
    "    print(\"le prix TTC est de \",prixTtc)\n",
    "print(\"Merci d'avoir utilisé le programme\")"
   ]
  },
  {
   "cell_type": "code",
   "execution_count": 79,
   "metadata": {
    "scrolled": false
   },
   "outputs": [
    {
     "name": "stdout",
     "output_type": "stream",
     "text": [
      "[1, 2, 3, 4, 5, 7, 8, 9]\n"
     ]
    }
   ],
   "source": [
    "L1 = [2,7,3,1,5,7,1]\n",
    "L2 = [8,5,9,4,1,1,5]\n",
    "\n",
    "L1.extend(L2)\n",
    "L3 = list(set(L1))\n",
    "print(L3)"
   ]
  },
  {
   "cell_type": "code",
   "execution_count": 67,
   "metadata": {},
   "outputs": [
    {
     "name": "stdout",
     "output_type": "stream",
     "text": [
      "yes\n"
     ]
    }
   ],
   "source": [
    "L1 = [1,2,3,4,3,2,1]\n",
    "L2 = L1.copy()\n",
    "L2.reverse()\n",
    "if L1 == L2:\n",
    "    print(\"La liste est un palindrome\")\n",
    "else :\n",
    "    print (\"La liste n'est pas un palindrome\")"
   ]
  },
  {
   "cell_type": "code",
   "execution_count": null,
   "metadata": {},
   "outputs": [],
   "source": []
  }
 ],
 "metadata": {
  "kernelspec": {
   "display_name": "Python 3",
   "language": "python",
   "name": "python3"
  },
  "language_info": {
   "codemirror_mode": {
    "name": "ipython",
    "version": 3
   },
   "file_extension": ".py",
   "mimetype": "text/x-python",
   "name": "python",
   "nbconvert_exporter": "python",
   "pygments_lexer": "ipython3",
   "version": "3.7.6"
  }
 },
 "nbformat": 4,
 "nbformat_minor": 4
}
